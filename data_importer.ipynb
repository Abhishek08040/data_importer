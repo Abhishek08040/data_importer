{
 "cells": [
  {
   "cell_type": "code",
   "execution_count": 1,
   "metadata": {
    "collapsed": true
   },
   "outputs": [
    {
     "data": {
      "text/plain": "<firebase_admin.App at 0x20559166be0>"
     },
     "execution_count": 1,
     "metadata": {},
     "output_type": "execute_result"
    }
   ],
   "source": [
    "import firebase_admin\n",
    "import pandas as pd\n",
    "from firebase_admin import credentials, firestore\n",
    "cred = credentials.Certificate(\"store.json\")\n",
    "firebase_admin.initialize_app(cred)\n"
   ]
  },
  {
   "cell_type": "code",
   "execution_count": 2,
   "outputs": [],
   "source": [
    "import random"
   ],
   "metadata": {
    "collapsed": false
   }
  },
  {
   "cell_type": "code",
   "execution_count": 10,
   "outputs": [],
   "source": [
    "db = firestore.client()\n",
    "product_ref = db.collection('Products1')\n",
    "transactions_ref = db.collection('Transactions1')"
   ],
   "metadata": {
    "collapsed": false
   }
  },
  {
   "cell_type": "code",
   "execution_count": 81,
   "outputs": [],
   "source": [
    "file = pd.read_csv('https://firebasestorage.googleapis.com/v0/b/online-gift-store-bb0d8.appspot.com/o/online%20retail%20clean%20small.csv?alt=media&token=e4e21322-92d6-4d1b-8fba-eb8ff6394396')"
   ],
   "metadata": {
    "collapsed": false
   }
  },
  {
   "cell_type": "code",
   "execution_count": 82,
   "outputs": [],
   "source": [
    "product_cols = file[['StockCode','Name','Description','Quantity','UnitPrice','Picture']]"
   ],
   "metadata": {
    "collapsed": false
   }
  },
  {
   "cell_type": "code",
   "execution_count": 83,
   "outputs": [],
   "source": [
    "def writeData(row):\n",
    "     stockCode = row[0]\n",
    "     name = row[1]\n",
    "     description = row[2]\n",
    "     quantity = row[3]\n",
    "     unitPrice = row[4]\n",
    "     picture = row[5]\n",
    "     searchQueries = name.split()\n",
    "\n",
    "     data = {'StockCode': stockCode, 'Name': name, 'Description': description, 'Quantity': quantity,\n",
    "             'UnitPrice': unitPrice, 'Picture': picture, 'QuantitySold': 0, 'Ratings Sum': 0,\n",
    "             'Ratings Count': 0, 'Color': '', 'SearchQueries': searchQueries}\n",
    "\n",
    "     product_ref.document(stockCode).set(data)\n",
    "\n",
    "     return\n",
    "\n"
   ],
   "metadata": {
    "collapsed": false
   }
  },
  {
   "cell_type": "code",
   "execution_count": 84,
   "outputs": [
    {
     "data": {
      "text/plain": "0      None\n1      None\n2      None\n3      None\n4      None\n       ... \n144    None\n145    None\n146    None\n147    None\n148    None\nLength: 149, dtype: object"
     },
     "execution_count": 84,
     "metadata": {},
     "output_type": "execute_result"
    }
   ],
   "source": [
    "product_cols.apply(writeData , axis=1)"
   ],
   "metadata": {
    "collapsed": false
   }
  },
  {
   "cell_type": "code",
   "execution_count": 85,
   "outputs": [],
   "source": [
    "invoicesVisited = {}\n",
    "invoicesVisitedList = []"
   ],
   "metadata": {
    "collapsed": false
   }
  },
  {
   "cell_type": "code",
   "execution_count": 86,
   "outputs": [],
   "source": [
    "transactions_cols = file[['StockCode','InvoiceDate','InvoiceNo','CustomerID']]"
   ],
   "metadata": {
    "collapsed": false
   }
  },
  {
   "cell_type": "code",
   "execution_count": 87,
   "outputs": [],
   "source": [
    "import datetime\n",
    "\n",
    "invoicesVisited = {}\n",
    "invoicesVisitedList = []\n",
    "\n",
    "for j in transactions_cols.iterrows():\n",
    "    i = j[1]\n",
    "\n",
    "    invoiceNo = i['InvoiceNo']\n",
    "    invoiceDate = i['InvoiceDate']\n",
    "    stockCode = str(i['StockCode'])\n",
    "    customerID = i['CustomerID']\n",
    "\n",
    "    quantity = 1\n",
    "    try:\n",
    "        quantity = int(transactions_ref.document(stockCode).get().to_dict()['QuantitySold']) + 1\n",
    "        product_ref.document(str(i['StockCode'])).update({'QuantitySold' : quantity})\n",
    "    except:\n",
    "        product_ref.document(str(i['StockCode'])).set({'QuantitySold' : quantity})\n",
    "\n",
    "    if invoiceNo not in invoicesVisitedList:\n",
    "\n",
    "        invoicesVisitedList.append(invoiceNo)\n",
    "        invoicesVisited[invoiceNo] = [stockCode]\n",
    "\n",
    "        d = {}\n",
    "        d['StockCode'] = [stockCode]\n",
    "\n",
    "        element = datetime.datetime.strptime(invoiceDate,\"%d-%m-%Y %H:%M\")\n",
    "        x = element.timetuple()\n",
    "        y = str('0' + str(x.tm_year) if len(str(x.tm_year)) == 1 else str(x.tm_year)) + \\\n",
    "            str('0' + str(x.tm_mon) if len(str(x.tm_mon)) == 1 else str(x.tm_mon)) + \\\n",
    "            str('0' + str(x.tm_mday) if len(str(x.tm_mday)) == 1 else str(x.tm_mday)) + \\\n",
    "            str('0' + str(x.tm_hour) if len(str(x.tm_hour)) == 1 else str(x.tm_hour)) + \\\n",
    "            str('0' + str(x.tm_min) if len(str(x.tm_min)) == 1 else str(x.tm_min))\n",
    "\n",
    "        d['InvoiceDate'] =  int(y)\n",
    "        d['CustomerID'] = i['CustomerID']\n",
    "        d['OrderDelivered'] = random.choice([True, False])\n",
    "\n",
    "        transactions_ref.document(str(invoiceNo)).set(d)\n",
    "\n",
    "\n",
    "    else:\n",
    "\n",
    "        l = invoicesVisited[invoiceNo]\n",
    "\n",
    "        l.append(str(i['StockCode']))\n",
    "        invoicesVisited[invoiceNo] = l\n",
    "\n",
    "        transactions_ref.document(str(invoiceNo)).update({'StockCode' : l})\n",
    "\n",
    "\n"
   ],
   "metadata": {
    "collapsed": false
   }
  },
  {
   "cell_type": "code",
   "execution_count": null,
   "outputs": [],
   "source": [],
   "metadata": {
    "collapsed": false
   }
  }
 ],
 "metadata": {
  "kernelspec": {
   "display_name": "Python 3",
   "language": "python",
   "name": "python3"
  },
  "language_info": {
   "codemirror_mode": {
    "name": "ipython",
    "version": 2
   },
   "file_extension": ".py",
   "mimetype": "text/x-python",
   "name": "python",
   "nbconvert_exporter": "python",
   "pygments_lexer": "ipython2",
   "version": "2.7.6"
  }
 },
 "nbformat": 4,
 "nbformat_minor": 0
}
